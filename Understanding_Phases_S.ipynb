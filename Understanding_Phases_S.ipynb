{
 "cells": [
  {
   "cell_type": "code",
   "execution_count": 1,
   "metadata": {},
   "outputs": [
    {
     "data": {
      "text/plain": [
       "<qiskit.circuit.measure.Measure at 0x1a211bc7b8>"
      ]
     },
     "execution_count": 1,
     "metadata": {},
     "output_type": "execute_result"
    }
   ],
   "source": [
    "# Ria Patel\n",
    "# Learning how rotational matrices affect the qubit. (Z, S, and T phases)\n",
    "\n",
    "import qiskit as qk\n",
    "from qiskit import QuantumRegister, ClassicalRegister, QuantumCircuit, execute, Aer, IBMQ\n",
    "from qiskit.tools.visualization import plot_histogram\n",
    "\n",
    "q = QuantumRegister(1)\n",
    "c = ClassicalRegister(1)\n",
    "qc = QuantumCircuit(q,c)\n",
    "\n",
    "# Apply gates to see if predictions are correct\n",
    "qc.h(q[0])\n",
    "qc.s(q[0])\n",
    "qc.h(q[0])\n",
    "qc.measure(q[0], c[0])"
   ]
  },
  {
   "cell_type": "code",
   "execution_count": 2,
   "metadata": {},
   "outputs": [
    {
     "name": "stdout",
     "output_type": "stream",
     "text": [
      "{'1': 499, '0': 525}\n"
     ]
    },
    {
     "data": {
      "image/png": "[encoded data removed]",
      "text/plain": [
       "<Figure size 504x360 with 1 Axes>"
      ]
     },
     "execution_count": 2,
     "metadata": {},
     "output_type": "execute_result"
    }
   ],
   "source": [
    "# Simulates the circuit & plots histogram\n",
    "backend = Aer.get_backend('qasm_simulator')\n",
    "job_sim = execute(qc, backend, shots=1024)\n",
    "sim_result = job_sim.result()\n",
    "measurement_result = sim_result.get_counts(qc)\n",
    "print(measurement_result)\n",
    "plot_histogram(measurement_result)"
   ]
  }
 ],
 "metadata": {
  "kernelspec": {
   "display_name": "Python 3",
   "language": "python",
   "name": "python3"
  },
  "language_info": {
   "codemirror_mode": {
    "name": "ipython",
    "version": 3
   },
   "file_extension": ".py",
   "mimetype": "text/x-python",
   "name": "python",
   "nbconvert_exporter": "python",
   "pygments_lexer": "ipython3",
   "version": "3.7.3"
  }
 },
 "nbformat": 4,
 "nbformat_minor": 2
}
