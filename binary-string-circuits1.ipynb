{
 "cells": [
  {
   "cell_type": "code",
   "execution_count": null,
   "metadata": {},
   "outputs": [],
   "source": [
    "# All of this manipulates circuit with 1 qubit\n",
    "\n",
    "# Import needed libraries/tools\n",
    "import qiskit as qk\n",
    "from qiskit import ClassicalRegister, QuantumRegister, QuantumCircuit\n",
    "from qiskit import execute, Aer\n",
    "from qiskit import IBMQ\n",
    "from qiskit.tools.visualization import plot_histogram\n",
    "\n",
    "# Creates quantum circuits n = 1\n",
    "q = QuantumRegister(1)\n",
    "c = ClassicalRegister(1)\n",
    "qc = QuantumCircuit(q, c)\n"
   ]
  },
  {
   "cell_type": "code",
   "execution_count": null,
   "metadata": {},
   "outputs": [],
   "source": [
    "# Measures the current state of the qubit for 1st circuit\n",
    "qc.measure(q[0], c[0])\n",
    "qc.draw(output='mpl')\n"
   ]
  },
  {
   "cell_type": "code",
   "execution_count": null,
   "metadata": {},
   "outputs": [],
   "source": [
    "# Simulates the circuit & plots histogram\n",
    "backend = Aer.get_backend('qasm_simulator')\n",
    "job_sim = execute(qc, backend, shots=1024)\n",
    "sim_result = job_sim.result()\n",
    "measurement_result = sim_result.get_counts(qc)\n",
    "print(measurement_result)\n",
    "plot_histogram(measurement_result)"
   ]
  },
  {
   "cell_type": "code",
   "execution_count": null,
   "metadata": {},
   "outputs": [],
   "source": [
    "# Resets the qubit\n",
    "qc.reset(q)\n",
    "\n",
    "# Measures qubit after using X gate\n",
    "qc.x(q[0])\n",
    "qc.measure(q[0], c[0])\n",
    "\n",
    "qc.draw(output='mpl')"
   ]
  },
  {
   "cell_type": "code",
   "execution_count": null,
   "metadata": {},
   "outputs": [],
   "source": [
    "# Simulates the circuit & plots histogram\n",
    "backend = Aer.get_backend('qasm_simulator')\n",
    "job_sim = execute(qc, backend, shots=1024)\n",
    "sim_result = job_sim.result()\n",
    "measurement_result = sim_result.get_counts(qc)\n",
    "print(measurement_result)\n",
    "plot_histogram(measurement_result)"
   ]
  }
 ],
 "metadata": {
  "kernelspec": {
   "display_name": "Python 3",
   "language": "python",
   "name": "python3"
  },
  "language_info": {
   "codemirror_mode": {
    "name": "ipython",
    "version": 3
   },
   "file_extension": ".py",
   "mimetype": "text/x-python",
   "name": "python",
   "nbconvert_exporter": "python",
   "pygments_lexer": "ipython3",
   "version": "3.7.3"
  }
 },
 "nbformat": 4,
 "nbformat_minor": 2
}
